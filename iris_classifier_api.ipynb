{
  "nbformat": 4,
  "nbformat_minor": 0,
  "metadata": {
    "colab": {
      "provenance": []
    },
    "kernelspec": {
      "name": "python3",
      "display_name": "Python 3"
    },
    "language_info": {
      "name": "python"
    }
  },
  "cells": [
    {
      "cell_type": "code",
      "execution_count": 2,
      "metadata": {
        "colab": {
          "base_uri": "https://localhost:8080/"
        },
        "id": "EKg7a0m9zXQP",
        "outputId": "6652b55d-66c0-4567-b8d4-65a6da5caf0a"
      },
      "outputs": [
        {
          "output_type": "stream",
          "name": "stdout",
          "text": [
            "Prediction: 0 -> setosa\n",
            "Model saved as iris_model.pkl\n"
          ]
        }
      ],
      "source": [
        "from sklearn.linear_model import LogisticRegression\n",
        "from sklearn.datasets import load_iris\n",
        "import joblib\n",
        "\n",
        "# 1. Load the Iris dataset (features + labels)\n",
        "iris = load_iris()\n",
        "X, y = iris.data, iris.target\n",
        "\n",
        "# 2. Initialize and train the Logistic Regression model\n",
        "model = LogisticRegression(max_iter=200)  # max_iter increased to ensure convergence\n",
        "model.fit(X, y)\n",
        "\n",
        "# 3. Make a sample prediction\n",
        "# Example flower measurements: [sepal length, sepal width, petal length, petal width]\n",
        "sample = [5.1, 3.5, 1.4, 0.2]\n",
        "prediction = model.predict([sample])\n",
        "print(\"Prediction:\", prediction[0], \"->\", iris.target_names[prediction[0]])\n",
        "\n",
        "# 4. Save the trained model to a file using joblib\n",
        "joblib.dump(model, \"iris_model.pkl\")\n",
        "print(\"Model saved as iris_model.pkl\")\n"
      ]
    },
    {
      "cell_type": "code",
      "source": [],
      "metadata": {
        "id": "_b1mFGvVzd25"
      },
      "execution_count": null,
      "outputs": []
    }
  ]
}