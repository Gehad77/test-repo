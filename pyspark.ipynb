{
  "nbformat": 4,
  "nbformat_minor": 0,
  "metadata": {
    "colab": {
      "provenance": []
    },
    "kernelspec": {
      "name": "python3",
      "display_name": "Python 3"
    },
    "language_info": {
      "name": "python"
    }
  },
  "cells": [
    {
      "cell_type": "code",
      "source": [
        "from pyspark.sql import SparkSession\n",
        "\n",
        "spark = SparkSession.builder \\\n",
        "    .appName(\"MyApp\") \\\n",
        "    .getOrCreate()"
      ],
      "metadata": {
        "id": "aTyXKSJ6-xsI"
      },
      "execution_count": 2,
      "outputs": []
    },
    {
      "cell_type": "code",
      "execution_count": 13,
      "metadata": {
        "colab": {
          "base_uri": "https://localhost:8080/"
        },
        "id": "a_EbjrEz-ZDA",
        "outputId": "1d125307-030a-495b-c466-b0665dabd9aa"
      },
      "outputs": [
        {
          "output_type": "stream",
          "name": "stdout",
          "text": [
            "+----+---+\n",
            "|name|age|\n",
            "+----+---+\n",
            "| Ali| 23|\n",
            "|Omar| 30|\n",
            "|Mona| 25|\n",
            "+----+---+\n",
            "\n"
          ]
        }
      ],
      "source": [
        "data = [(\"Ali\", 23), (\"Omar\", 30), (\"Mona\", 25)]\n",
        "df = spark.createDataFrame(data, [\"name\", \"age\"])\n",
        "df.show()\n"
      ]
    },
    {
      "cell_type": "code",
      "source": [
        "from pyspark.sql import SparkSession\n",
        "\n",
        "spark = SparkSession.builder.appName(\"myapp\").getOrCreate()"
      ],
      "metadata": {
        "id": "MYpaxd2O-1FZ"
      },
      "execution_count": 5,
      "outputs": []
    },
    {
      "cell_type": "code",
      "source": [
        "data = [(\"df\",2)]"
      ],
      "metadata": {
        "id": "JURugxkN_bVw"
      },
      "execution_count": 6,
      "outputs": []
    },
    {
      "cell_type": "code",
      "source": [
        "df = spark.createDataFrame(data,[\"name\",\"age\"])"
      ],
      "metadata": {
        "id": "3gDJtmtWAwMm"
      },
      "execution_count": 7,
      "outputs": []
    },
    {
      "cell_type": "code",
      "source": [
        "df.show()"
      ],
      "metadata": {
        "colab": {
          "base_uri": "https://localhost:8080/"
        },
        "id": "yUvc0XcQA0wE",
        "outputId": "97f2ee88-9656-4e1f-dec4-132c2f3313e1"
      },
      "execution_count": 9,
      "outputs": [
        {
          "output_type": "stream",
          "name": "stdout",
          "text": [
            "+----+---+\n",
            "|name|age|\n",
            "+----+---+\n",
            "|  df|  2|\n",
            "+----+---+\n",
            "\n"
          ]
        }
      ]
    },
    {
      "cell_type": "code",
      "source": [
        "from pyspark.sql.functions import *"
      ],
      "metadata": {
        "id": "N_tggZx0D7gD"
      },
      "execution_count": 15,
      "outputs": []
    },
    {
      "cell_type": "code",
      "source": [
        "df.agg(\n",
        "    max(\"age\")\n",
        ").show()"
      ],
      "metadata": {
        "colab": {
          "base_uri": "https://localhost:8080/"
        },
        "id": "vSIj_O3JA4D0",
        "outputId": "f7f7f711-92ac-4b9b-ceba-53ce0290718a"
      },
      "execution_count": 16,
      "outputs": [
        {
          "output_type": "stream",
          "name": "stdout",
          "text": [
            "+--------+\n",
            "|max(age)|\n",
            "+--------+\n",
            "|      30|\n",
            "+--------+\n",
            "\n"
          ]
        }
      ]
    },
    {
      "cell_type": "code",
      "source": [
        "df.agg(\n",
        "    max(\"age\")\n",
        ").show()"
      ],
      "metadata": {
        "colab": {
          "base_uri": "https://localhost:8080/"
        },
        "id": "Xi9INzTJDqvo",
        "outputId": "f40e9611-ee16-4842-9b78-c50fd292944d"
      },
      "execution_count": 18,
      "outputs": [
        {
          "output_type": "stream",
          "name": "stdout",
          "text": [
            "+--------+\n",
            "|max(age)|\n",
            "+--------+\n",
            "|      30|\n",
            "+--------+\n",
            "\n"
          ]
        }
      ]
    },
    {
      "cell_type": "code",
      "source": [
        "from pyspark.sql import SparkSession"
      ],
      "metadata": {
        "id": "QgQzqny4EDxC"
      },
      "execution_count": 19,
      "outputs": []
    },
    {
      "cell_type": "code",
      "source": [
        "spark = SparkSession.builder.appName(\"myapp\").getOrCreate()"
      ],
      "metadata": {
        "id": "yLUOeMwJEOoy"
      },
      "execution_count": 20,
      "outputs": []
    },
    {
      "cell_type": "code",
      "source": [
        "data = [(\"ali\",25),(\"mandy\",54),(\"hisham\",45)]\n",
        "df = spark.createDataFrame(data,[\"name\",\"age\"])"
      ],
      "metadata": {
        "id": "-M--VNKoEXwN"
      },
      "execution_count": 21,
      "outputs": []
    },
    {
      "cell_type": "code",
      "source": [
        "df.agg(\n",
        "    max(\"age\").alias(\"max_age\")\n",
        ").show()"
      ],
      "metadata": {
        "colab": {
          "base_uri": "https://localhost:8080/"
        },
        "id": "M3j8idm9EsEO",
        "outputId": "3a4b0556-8238-4ebf-e649-6f759a687c73"
      },
      "execution_count": 24,
      "outputs": [
        {
          "output_type": "stream",
          "name": "stdout",
          "text": [
            "+-------+\n",
            "|max_age|\n",
            "+-------+\n",
            "|     54|\n",
            "+-------+\n",
            "\n"
          ]
        }
      ]
    },
    {
      "cell_type": "code",
      "source": [
        "df = spark.read.format(\"csv\").option(\"header\",True).load(\"/content/Data_Scientist_Capability_Matrix.csv\")"
      ],
      "metadata": {
        "id": "lvqzByKIExBO"
      },
      "execution_count": 28,
      "outputs": []
    },
    {
      "cell_type": "code",
      "source": [
        "df.show()"
      ],
      "metadata": {
        "colab": {
          "base_uri": "https://localhost:8080/"
        },
        "id": "BStWM8NlLpuf",
        "outputId": "aa31e929-2272-4b6b-adb8-cca380d8c4db"
      },
      "execution_count": 29,
      "outputs": [
        {
          "output_type": "stream",
          "name": "stdout",
          "text": [
            "+--------------------+--------------------+-----------+\n",
            "|            Category|               Skill|Score (1-5)|\n",
            "+--------------------+--------------------+-----------+\n",
            "|Programming & Sof...|Python/R (pandas,...|          5|\n",
            "|                NULL|Clean, modular co...|          3|\n",
            "|                NULL|Version control (...|          3|\n",
            "|                NULL|API integration &...|          3|\n",
            "|                NULL|CI/CD & container...|          0|\n",
            "|Data Wrangling & ETL|Basic joins, merg...|          5|\n",
            "|                NULL|SQL queries & rel...|          5|\n",
            "|                NULL|Data pipelines (A...|          0|\n",
            "|                NULL|Big data handling...|          0|\n",
            "|   Statistics & Math|Descriptive stats...|          5|\n",
            "|                NULL|Hypothesis testin...|          5|\n",
            "|                NULL| Regression analysis|          5|\n",
            "|                NULL|Bayesian inferenc...|          5|\n",
            "|    Machine Learning|Basic models (lin...|          5|\n",
            "|                NULL|Feature engineeri...|          5|\n",
            "|                NULL|Ensemble methods ...|          5|\n",
            "|                NULL|Hyperparameter tu...|          5|\n",
            "|                NULL|Deep learning (CN...|          4|\n",
            "|                NULL|MLOps integration...|          0|\n",
            "|Data Visualizatio...|Static visualizat...|          5|\n",
            "+--------------------+--------------------+-----------+\n",
            "only showing top 20 rows\n",
            "\n"
          ]
        }
      ]
    },
    {
      "cell_type": "code",
      "source": [
        "df = spark.read.format(\"csv\").option(\"header\",True).load(\"/content/Data_Scientist_Capability_Matrix.csv\")"
      ],
      "metadata": {
        "id": "T-zF0p40Lq5r"
      },
      "execution_count": 30,
      "outputs": []
    },
    {
      "cell_type": "code",
      "source": [
        "df.show()"
      ],
      "metadata": {
        "colab": {
          "base_uri": "https://localhost:8080/"
        },
        "id": "3Dp6WCpHMQz4",
        "outputId": "de4c8c00-e2a0-4209-871b-3451fd2984c1"
      },
      "execution_count": 31,
      "outputs": [
        {
          "output_type": "stream",
          "name": "stdout",
          "text": [
            "+--------------------+--------------------+-----------+\n",
            "|            Category|               Skill|Score (1-5)|\n",
            "+--------------------+--------------------+-----------+\n",
            "|Programming & Sof...|Python/R (pandas,...|          5|\n",
            "|                NULL|Clean, modular co...|          3|\n",
            "|                NULL|Version control (...|          3|\n",
            "|                NULL|API integration &...|          3|\n",
            "|                NULL|CI/CD & container...|          0|\n",
            "|Data Wrangling & ETL|Basic joins, merg...|          5|\n",
            "|                NULL|SQL queries & rel...|          5|\n",
            "|                NULL|Data pipelines (A...|          0|\n",
            "|                NULL|Big data handling...|          0|\n",
            "|   Statistics & Math|Descriptive stats...|          5|\n",
            "|                NULL|Hypothesis testin...|          5|\n",
            "|                NULL| Regression analysis|          5|\n",
            "|                NULL|Bayesian inferenc...|          5|\n",
            "|    Machine Learning|Basic models (lin...|          5|\n",
            "|                NULL|Feature engineeri...|          5|\n",
            "|                NULL|Ensemble methods ...|          5|\n",
            "|                NULL|Hyperparameter tu...|          5|\n",
            "|                NULL|Deep learning (CN...|          4|\n",
            "|                NULL|MLOps integration...|          0|\n",
            "|Data Visualizatio...|Static visualizat...|          5|\n",
            "+--------------------+--------------------+-----------+\n",
            "only showing top 20 rows\n",
            "\n"
          ]
        }
      ]
    },
    {
      "cell_type": "code",
      "source": [
        "df.printSchema()"
      ],
      "metadata": {
        "colab": {
          "base_uri": "https://localhost:8080/"
        },
        "id": "LrnA1ANpMSFr",
        "outputId": "8e879252-a999-4574-eab3-000247926d60"
      },
      "execution_count": 33,
      "outputs": [
        {
          "output_type": "stream",
          "name": "stdout",
          "text": [
            "root\n",
            " |-- Category: string (nullable = true)\n",
            " |-- Skill: string (nullable = true)\n",
            " |-- Score (1-5): string (nullable = true)\n",
            "\n"
          ]
        }
      ]
    },
    {
      "cell_type": "code",
      "source": [
        "df.describe().show()"
      ],
      "metadata": {
        "colab": {
          "base_uri": "https://localhost:8080/"
        },
        "id": "7lWu_1fbMZvg",
        "outputId": "0e93871c-355d-4139-e175-9629704158d1"
      },
      "execution_count": 35,
      "outputs": [
        {
          "output_type": "stream",
          "name": "stdout",
          "text": [
            "+-------+------------------+--------------------+------------------+\n",
            "|summary|          Category|               Skill|       Score (1-5)|\n",
            "+-------+------------------+--------------------+------------------+\n",
            "|  count|                 8|                  31|                31|\n",
            "|   mean|              NULL|                NULL| 3.064516129032258|\n",
            "| stddev|              NULL|                NULL|2.0806326581269734|\n",
            "|    min|APIs & Integration|API integration &...|                 0|\n",
            "|    max| Statistics & Math|Version control (...|                 5|\n",
            "+-------+------------------+--------------------+------------------+\n",
            "\n"
          ]
        }
      ]
    },
    {
      "cell_type": "code",
      "source": [
        "df.corr"
      ],
      "metadata": {
        "colab": {
          "base_uri": "https://localhost:8080/",
          "height": 186
        },
        "id": "xflvTLQXMiYk",
        "outputId": "d4c35472-df53-47b6-b459-fe776d9425c6"
      },
      "execution_count": 40,
      "outputs": [
        {
          "output_type": "execute_result",
          "data": {
            "text/plain": [
              "<bound method DataFrame.corr of DataFrame[Category: string, Skill: string, Score (1-5): string]>"
            ],
            "text/html": [
              "<div style=\"max-width:800px; border: 1px solid var(--colab-border-color);\"><style>\n",
              "      pre.function-repr-contents {\n",
              "        overflow-x: auto;\n",
              "        padding: 8px 12px;\n",
              "        max-height: 500px;\n",
              "      }\n",
              "\n",
              "      pre.function-repr-contents.function-repr-contents-collapsed {\n",
              "        cursor: pointer;\n",
              "        max-height: 100px;\n",
              "      }\n",
              "    </style>\n",
              "    <pre style=\"white-space: initial; background:\n",
              "         var(--colab-secondary-surface-color); padding: 8px 12px;\n",
              "         border-bottom: 1px solid var(--colab-border-color);\"><b>pyspark.sql.dataframe.DataFrame.corr</b><br/>def corr(col1: str, col2: str, method: Optional[str]=None) -&gt; float</pre><pre class=\"function-repr-contents function-repr-contents-collapsed\" style=\"\"><a class=\"filepath\" style=\"display:none\" href=\"#\">/usr/local/lib/python3.12/dist-packages/pyspark/sql/dataframe.py</a>Calculates the correlation of two columns of a :class:`DataFrame` as a double value.\n",
              "Currently only supports the Pearson Correlation Coefficient.\n",
              ":func:`DataFrame.corr` and :func:`DataFrameStatFunctions.corr` are aliases of each other.\n",
              "\n",
              ".. versionadded:: 1.4.0\n",
              "\n",
              ".. versionchanged:: 3.4.0\n",
              "    Supports Spark Connect.\n",
              "\n",
              "Parameters\n",
              "----------\n",
              "col1 : str\n",
              "    The name of the first column\n",
              "col2 : str\n",
              "    The name of the second column\n",
              "method : str, optional\n",
              "    The correlation method. Currently only supports &quot;pearson&quot;\n",
              "\n",
              "Returns\n",
              "-------\n",
              "float\n",
              "    Pearson Correlation Coefficient of two columns.\n",
              "\n",
              "Examples\n",
              "--------\n",
              "&gt;&gt;&gt; df = spark.createDataFrame([(1, 12), (10, 1), (19, 8)], [&quot;c1&quot;, &quot;c2&quot;])\n",
              "&gt;&gt;&gt; df.corr(&quot;c1&quot;, &quot;c2&quot;)\n",
              "-0.3592106040535498\n",
              "&gt;&gt;&gt; df = spark.createDataFrame([(11, 12), (10, 11), (9, 10)], [&quot;small&quot;, &quot;bigger&quot;])\n",
              "&gt;&gt;&gt; df.corr(&quot;small&quot;, &quot;bigger&quot;)\n",
              "1.0</pre>\n",
              "      <script>\n",
              "      if (google.colab.kernel.accessAllowed && google.colab.files && google.colab.files.view) {\n",
              "        for (const element of document.querySelectorAll('.filepath')) {\n",
              "          element.style.display = 'block'\n",
              "          element.onclick = (event) => {\n",
              "            event.preventDefault();\n",
              "            event.stopPropagation();\n",
              "            google.colab.files.view(element.textContent, 4849);\n",
              "          };\n",
              "        }\n",
              "      }\n",
              "      for (const element of document.querySelectorAll('.function-repr-contents')) {\n",
              "        element.onclick = (event) => {\n",
              "          event.preventDefault();\n",
              "          event.stopPropagation();\n",
              "          element.classList.toggle('function-repr-contents-collapsed');\n",
              "        };\n",
              "      }\n",
              "      </script>\n",
              "      </div>"
            ]
          },
          "metadata": {},
          "execution_count": 40
        }
      ]
    },
    {
      "cell_type": "code",
      "source": [
        "from pyspark.sql import SparkSession\n",
        "\n",
        "spark = SparkSession.builder.appName(\"myapp\").getOrCreate()\n",
        "\n",
        "df = spark.read.format(\"csv\").option(\"header\",True).option(\"inferSchema\", True).load(\"/content/Data_Scientist_Capability_Matrix.csv\")"
      ],
      "metadata": {
        "id": "wUFe3v9ZMqDR"
      },
      "execution_count": 44,
      "outputs": []
    },
    {
      "cell_type": "code",
      "source": [
        "df.show()"
      ],
      "metadata": {
        "colab": {
          "base_uri": "https://localhost:8080/"
        },
        "id": "zIJ9QRNvOoNS",
        "outputId": "e3362852-fe15-4dbf-a3b7-9ba38c12ffd2"
      },
      "execution_count": 46,
      "outputs": [
        {
          "output_type": "stream",
          "name": "stdout",
          "text": [
            "+--------------------+--------------------+-----------+\n",
            "|            Category|               Skill|Score (1-5)|\n",
            "+--------------------+--------------------+-----------+\n",
            "|Programming & Sof...|Python/R (pandas,...|          5|\n",
            "|                NULL|Clean, modular co...|          3|\n",
            "|                NULL|Version control (...|          3|\n",
            "|                NULL|API integration &...|          3|\n",
            "|                NULL|CI/CD & container...|          0|\n",
            "|Data Wrangling & ETL|Basic joins, merg...|          5|\n",
            "|                NULL|SQL queries & rel...|          5|\n",
            "|                NULL|Data pipelines (A...|          0|\n",
            "|                NULL|Big data handling...|          0|\n",
            "|   Statistics & Math|Descriptive stats...|          5|\n",
            "|                NULL|Hypothesis testin...|          5|\n",
            "|                NULL| Regression analysis|          5|\n",
            "|                NULL|Bayesian inferenc...|          5|\n",
            "|    Machine Learning|Basic models (lin...|          5|\n",
            "|                NULL|Feature engineeri...|          5|\n",
            "|                NULL|Ensemble methods ...|          5|\n",
            "|                NULL|Hyperparameter tu...|          5|\n",
            "|                NULL|Deep learning (CN...|          4|\n",
            "|                NULL|MLOps integration...|          0|\n",
            "|Data Visualizatio...|Static visualizat...|          5|\n",
            "+--------------------+--------------------+-----------+\n",
            "only showing top 20 rows\n",
            "\n"
          ]
        }
      ]
    },
    {
      "cell_type": "code",
      "source": [
        "df.agg(\n",
        "    max(\"Score (1-5)\").alias(\"score\")\n",
        ").show()"
      ],
      "metadata": {
        "colab": {
          "base_uri": "https://localhost:8080/"
        },
        "id": "aiDIpNsQNLuV",
        "outputId": "747fbff1-ba83-48dd-cc91-6f59285b3849"
      },
      "execution_count": 48,
      "outputs": [
        {
          "output_type": "stream",
          "name": "stdout",
          "text": [
            "+-----+\n",
            "|score|\n",
            "+-----+\n",
            "|    5|\n",
            "+-----+\n",
            "\n"
          ]
        }
      ]
    },
    {
      "cell_type": "code",
      "source": [
        "df = df.withColumn(\"Score (1-5)\" , col(\"Score (1-5)\").cast(\"int\"))"
      ],
      "metadata": {
        "id": "i7A3ItcwNYkm"
      },
      "execution_count": 49,
      "outputs": []
    },
    {
      "cell_type": "code",
      "source": [
        "df.show()"
      ],
      "metadata": {
        "colab": {
          "base_uri": "https://localhost:8080/"
        },
        "id": "kOKJDRZnOA5p",
        "outputId": "10c7c624-7ff9-4746-fbb5-3a945075747b"
      },
      "execution_count": 50,
      "outputs": [
        {
          "output_type": "stream",
          "name": "stdout",
          "text": [
            "+--------------------+--------------------+-----------+\n",
            "|            Category|               Skill|Score (1-5)|\n",
            "+--------------------+--------------------+-----------+\n",
            "|Programming & Sof...|Python/R (pandas,...|          5|\n",
            "|                NULL|Clean, modular co...|          3|\n",
            "|                NULL|Version control (...|          3|\n",
            "|                NULL|API integration &...|          3|\n",
            "|                NULL|CI/CD & container...|          0|\n",
            "|Data Wrangling & ETL|Basic joins, merg...|          5|\n",
            "|                NULL|SQL queries & rel...|          5|\n",
            "|                NULL|Data pipelines (A...|          0|\n",
            "|                NULL|Big data handling...|          0|\n",
            "|   Statistics & Math|Descriptive stats...|          5|\n",
            "|                NULL|Hypothesis testin...|          5|\n",
            "|                NULL| Regression analysis|          5|\n",
            "|                NULL|Bayesian inferenc...|          5|\n",
            "|    Machine Learning|Basic models (lin...|          5|\n",
            "|                NULL|Feature engineeri...|          5|\n",
            "|                NULL|Ensemble methods ...|          5|\n",
            "|                NULL|Hyperparameter tu...|          5|\n",
            "|                NULL|Deep learning (CN...|          4|\n",
            "|                NULL|MLOps integration...|          0|\n",
            "|Data Visualizatio...|Static visualizat...|          5|\n",
            "+--------------------+--------------------+-----------+\n",
            "only showing top 20 rows\n",
            "\n"
          ]
        }
      ]
    },
    {
      "cell_type": "code",
      "source": [
        "df = df.withColumnRenamed(\"Score (1-5)\",\"Score\")"
      ],
      "metadata": {
        "id": "QWz5tvTiOyr4"
      },
      "execution_count": 54,
      "outputs": []
    },
    {
      "cell_type": "code",
      "source": [
        "df.show()"
      ],
      "metadata": {
        "colab": {
          "base_uri": "https://localhost:8080/"
        },
        "id": "CNqQvwYlQtRd",
        "outputId": "c3c7b898-eec6-4468-c05d-90f3ed927618"
      },
      "execution_count": 55,
      "outputs": [
        {
          "output_type": "stream",
          "name": "stdout",
          "text": [
            "+--------------------+--------------------+-----+\n",
            "|            Category|               Skill|Score|\n",
            "+--------------------+--------------------+-----+\n",
            "|Programming & Sof...|Python/R (pandas,...|    5|\n",
            "|                NULL|Clean, modular co...|    3|\n",
            "|                NULL|Version control (...|    3|\n",
            "|                NULL|API integration &...|    3|\n",
            "|                NULL|CI/CD & container...|    0|\n",
            "|Data Wrangling & ETL|Basic joins, merg...|    5|\n",
            "|                NULL|SQL queries & rel...|    5|\n",
            "|                NULL|Data pipelines (A...|    0|\n",
            "|                NULL|Big data handling...|    0|\n",
            "|   Statistics & Math|Descriptive stats...|    5|\n",
            "|                NULL|Hypothesis testin...|    5|\n",
            "|                NULL| Regression analysis|    5|\n",
            "|                NULL|Bayesian inferenc...|    5|\n",
            "|    Machine Learning|Basic models (lin...|    5|\n",
            "|                NULL|Feature engineeri...|    5|\n",
            "|                NULL|Ensemble methods ...|    5|\n",
            "|                NULL|Hyperparameter tu...|    5|\n",
            "|                NULL|Deep learning (CN...|    4|\n",
            "|                NULL|MLOps integration...|    0|\n",
            "|Data Visualizatio...|Static visualizat...|    5|\n",
            "+--------------------+--------------------+-----+\n",
            "only showing top 20 rows\n",
            "\n"
          ]
        }
      ]
    },
    {
      "cell_type": "code",
      "source": [
        "df.createOrReplaceTempView(\"Data_Scientist_Capability_Matrix\")\n"
      ],
      "metadata": {
        "id": "ubIA78mYQ_XT"
      },
      "execution_count": 58,
      "outputs": []
    },
    {
      "cell_type": "code",
      "source": [
        "result = spark.sql(\"SELECT name, AVG(age) as avg_age FROM people GROUP BY name\")\n",
        "result.show()\n"
      ],
      "metadata": {
        "colab": {
          "base_uri": "https://localhost:8080/",
          "height": 512
        },
        "id": "Roj76I60VcDf",
        "outputId": "e6b60fd3-6650-4950-d343-80f0058083d2"
      },
      "execution_count": 59,
      "outputs": [
        {
          "output_type": "error",
          "ename": "AnalysisException",
          "evalue": "[UNRESOLVED_COLUMN.WITH_SUGGESTION] A column or function parameter with name `name` cannot be resolved. Did you mean one of the following? [`Score`, `Skill`, `Category`].; line 1 pos 7;\n'Aggregate ['name], ['name, 'AVG('age) AS avg_age#584]\n+- SubqueryAlias people\n   +- View (`people`, [Category#498,Skill#499,Score#563])\n      +- Project [Category#498, Skill#499, Score (1-5)#543 AS Score#563]\n         +- Project [Category#498, Skill#499, cast(Score (1-5)#500 as int) AS Score (1-5)#543]\n            +- Relation [Category#498,Skill#499,Score (1-5)#500] csv\n",
          "traceback": [
            "\u001b[0;31m---------------------------------------------------------------------------\u001b[0m",
            "\u001b[0;31mAnalysisException\u001b[0m                         Traceback (most recent call last)",
            "\u001b[0;32m/tmp/ipython-input-3970933962.py\u001b[0m in \u001b[0;36m<cell line: 0>\u001b[0;34m()\u001b[0m\n\u001b[0;32m----> 1\u001b[0;31m \u001b[0mresult\u001b[0m \u001b[0;34m=\u001b[0m \u001b[0mspark\u001b[0m\u001b[0;34m.\u001b[0m\u001b[0msql\u001b[0m\u001b[0;34m(\u001b[0m\u001b[0;34m\"SELECT name, AVG(age) as avg_age FROM people GROUP BY name\"\u001b[0m\u001b[0;34m)\u001b[0m\u001b[0;34m\u001b[0m\u001b[0;34m\u001b[0m\u001b[0m\n\u001b[0m\u001b[1;32m      2\u001b[0m \u001b[0mresult\u001b[0m\u001b[0;34m.\u001b[0m\u001b[0mshow\u001b[0m\u001b[0;34m(\u001b[0m\u001b[0;34m)\u001b[0m\u001b[0;34m\u001b[0m\u001b[0;34m\u001b[0m\u001b[0m\n",
            "\u001b[0;32m/usr/local/lib/python3.12/dist-packages/pyspark/sql/session.py\u001b[0m in \u001b[0;36msql\u001b[0;34m(self, sqlQuery, args, **kwargs)\u001b[0m\n\u001b[1;32m   1629\u001b[0m                     \u001b[0;34m[\u001b[0m\u001b[0m_to_java_column\u001b[0m\u001b[0;34m(\u001b[0m\u001b[0mlit\u001b[0m\u001b[0;34m(\u001b[0m\u001b[0mv\u001b[0m\u001b[0;34m)\u001b[0m\u001b[0;34m)\u001b[0m \u001b[0;32mfor\u001b[0m \u001b[0mv\u001b[0m \u001b[0;32min\u001b[0m \u001b[0;34m(\u001b[0m\u001b[0margs\u001b[0m \u001b[0;32mor\u001b[0m \u001b[0;34m[\u001b[0m\u001b[0;34m]\u001b[0m\u001b[0;34m)\u001b[0m\u001b[0;34m]\u001b[0m\u001b[0;34m\u001b[0m\u001b[0;34m\u001b[0m\u001b[0m\n\u001b[1;32m   1630\u001b[0m                 )\n\u001b[0;32m-> 1631\u001b[0;31m             \u001b[0;32mreturn\u001b[0m \u001b[0mDataFrame\u001b[0m\u001b[0;34m(\u001b[0m\u001b[0mself\u001b[0m\u001b[0;34m.\u001b[0m\u001b[0m_jsparkSession\u001b[0m\u001b[0;34m.\u001b[0m\u001b[0msql\u001b[0m\u001b[0;34m(\u001b[0m\u001b[0msqlQuery\u001b[0m\u001b[0;34m,\u001b[0m \u001b[0mlitArgs\u001b[0m\u001b[0;34m)\u001b[0m\u001b[0;34m,\u001b[0m \u001b[0mself\u001b[0m\u001b[0;34m)\u001b[0m\u001b[0;34m\u001b[0m\u001b[0;34m\u001b[0m\u001b[0m\n\u001b[0m\u001b[1;32m   1632\u001b[0m         \u001b[0;32mfinally\u001b[0m\u001b[0;34m:\u001b[0m\u001b[0;34m\u001b[0m\u001b[0;34m\u001b[0m\u001b[0m\n\u001b[1;32m   1633\u001b[0m             \u001b[0;32mif\u001b[0m \u001b[0mlen\u001b[0m\u001b[0;34m(\u001b[0m\u001b[0mkwargs\u001b[0m\u001b[0;34m)\u001b[0m \u001b[0;34m>\u001b[0m \u001b[0;36m0\u001b[0m\u001b[0;34m:\u001b[0m\u001b[0;34m\u001b[0m\u001b[0;34m\u001b[0m\u001b[0m\n",
            "\u001b[0;32m/usr/local/lib/python3.12/dist-packages/py4j/java_gateway.py\u001b[0m in \u001b[0;36m__call__\u001b[0;34m(self, *args)\u001b[0m\n\u001b[1;32m   1320\u001b[0m \u001b[0;34m\u001b[0m\u001b[0m\n\u001b[1;32m   1321\u001b[0m         \u001b[0manswer\u001b[0m \u001b[0;34m=\u001b[0m \u001b[0mself\u001b[0m\u001b[0;34m.\u001b[0m\u001b[0mgateway_client\u001b[0m\u001b[0;34m.\u001b[0m\u001b[0msend_command\u001b[0m\u001b[0;34m(\u001b[0m\u001b[0mcommand\u001b[0m\u001b[0;34m)\u001b[0m\u001b[0;34m\u001b[0m\u001b[0;34m\u001b[0m\u001b[0m\n\u001b[0;32m-> 1322\u001b[0;31m         return_value = get_return_value(\n\u001b[0m\u001b[1;32m   1323\u001b[0m             answer, self.gateway_client, self.target_id, self.name)\n\u001b[1;32m   1324\u001b[0m \u001b[0;34m\u001b[0m\u001b[0m\n",
            "\u001b[0;32m/usr/local/lib/python3.12/dist-packages/pyspark/errors/exceptions/captured.py\u001b[0m in \u001b[0;36mdeco\u001b[0;34m(*a, **kw)\u001b[0m\n\u001b[1;32m    183\u001b[0m                 \u001b[0;31m# Hide where the exception came from that shows a non-Pythonic\u001b[0m\u001b[0;34m\u001b[0m\u001b[0;34m\u001b[0m\u001b[0m\n\u001b[1;32m    184\u001b[0m                 \u001b[0;31m# JVM exception message.\u001b[0m\u001b[0;34m\u001b[0m\u001b[0;34m\u001b[0m\u001b[0m\n\u001b[0;32m--> 185\u001b[0;31m                 \u001b[0;32mraise\u001b[0m \u001b[0mconverted\u001b[0m \u001b[0;32mfrom\u001b[0m \u001b[0;32mNone\u001b[0m\u001b[0;34m\u001b[0m\u001b[0;34m\u001b[0m\u001b[0m\n\u001b[0m\u001b[1;32m    186\u001b[0m             \u001b[0;32melse\u001b[0m\u001b[0;34m:\u001b[0m\u001b[0;34m\u001b[0m\u001b[0;34m\u001b[0m\u001b[0m\n\u001b[1;32m    187\u001b[0m                 \u001b[0;32mraise\u001b[0m\u001b[0;34m\u001b[0m\u001b[0;34m\u001b[0m\u001b[0m\n",
            "\u001b[0;31mAnalysisException\u001b[0m: [UNRESOLVED_COLUMN.WITH_SUGGESTION] A column or function parameter with name `name` cannot be resolved. Did you mean one of the following? [`Score`, `Skill`, `Category`].; line 1 pos 7;\n'Aggregate ['name], ['name, 'AVG('age) AS avg_age#584]\n+- SubqueryAlias people\n   +- View (`people`, [Category#498,Skill#499,Score#563])\n      +- Project [Category#498, Skill#499, Score (1-5)#543 AS Score#563]\n         +- Project [Category#498, Skill#499, cast(Score (1-5)#500 as int) AS Score (1-5)#543]\n            +- Relation [Category#498,Skill#499,Score (1-5)#500] csv\n"
          ]
        }
      ]
    },
    {
      "cell_type": "code",
      "source": [
        "from pyspark.sql import SparkSession\n",
        "\n",
        "spark = SparkSession.builder.appName(\"app\").getOrCreate()\n",
        "\n",
        "\n",
        "df = spark.read.format(\"csv\").option(\"header\",True).option(\"infeSchema\",True).load(\"/content/Data_Scientist_Capability_Matrix.csv\")"
      ],
      "metadata": {
        "id": "pmYx-GHKVoaB"
      },
      "execution_count": 88,
      "outputs": []
    },
    {
      "cell_type": "code",
      "source": [
        "df.createOrReplaceTempView(\"Data_Scientist_Capability_Matrix\")"
      ],
      "metadata": {
        "id": "ABZAR_D-XPH4"
      },
      "execution_count": 61,
      "outputs": []
    },
    {
      "cell_type": "code",
      "source": [
        "df.show()"
      ],
      "metadata": {
        "colab": {
          "base_uri": "https://localhost:8080/"
        },
        "id": "naIsEQEFXZRg",
        "outputId": "c3af02dc-114b-4e50-b69a-9860bd66f21d"
      },
      "execution_count": 63,
      "outputs": [
        {
          "output_type": "stream",
          "name": "stdout",
          "text": [
            "+--------------------+--------------------+-----------+\n",
            "|            Category|               Skill|Score (1-5)|\n",
            "+--------------------+--------------------+-----------+\n",
            "|Programming & Sof...|Python/R (pandas,...|          5|\n",
            "|                NULL|Clean, modular co...|          3|\n",
            "|                NULL|Version control (...|          3|\n",
            "|                NULL|API integration &...|          3|\n",
            "|                NULL|CI/CD & container...|          0|\n",
            "|Data Wrangling & ETL|Basic joins, merg...|          5|\n",
            "|                NULL|SQL queries & rel...|          5|\n",
            "|                NULL|Data pipelines (A...|          0|\n",
            "|                NULL|Big data handling...|          0|\n",
            "|   Statistics & Math|Descriptive stats...|          5|\n",
            "|                NULL|Hypothesis testin...|          5|\n",
            "|                NULL| Regression analysis|          5|\n",
            "|                NULL|Bayesian inferenc...|          5|\n",
            "|    Machine Learning|Basic models (lin...|          5|\n",
            "|                NULL|Feature engineeri...|          5|\n",
            "|                NULL|Ensemble methods ...|          5|\n",
            "|                NULL|Hyperparameter tu...|          5|\n",
            "|                NULL|Deep learning (CN...|          4|\n",
            "|                NULL|MLOps integration...|          0|\n",
            "|Data Visualizatio...|Static visualizat...|          5|\n",
            "+--------------------+--------------------+-----------+\n",
            "only showing top 20 rows\n",
            "\n"
          ]
        }
      ]
    },
    {
      "cell_type": "code",
      "source": [
        "df = df.withColumn(\"Score (1-5)\",col(\"Score (1-5)\").cast(\"int\"))"
      ],
      "metadata": {
        "id": "IjBE12ONXaQk"
      },
      "execution_count": 69,
      "outputs": []
    },
    {
      "cell_type": "code",
      "source": [
        "df = df.withColumnRenamed(\"Score (1-5)\",\"Score\")"
      ],
      "metadata": {
        "id": "RCP5dZ8mYM6k"
      },
      "execution_count": 96,
      "outputs": []
    },
    {
      "cell_type": "code",
      "source": [
        "df.show()"
      ],
      "metadata": {
        "colab": {
          "base_uri": "https://localhost:8080/"
        },
        "id": "F1ccPojSYM3K",
        "outputId": "5f4566ff-507a-450d-dd86-512935b15b13"
      },
      "execution_count": 94,
      "outputs": [
        {
          "output_type": "stream",
          "name": "stdout",
          "text": [
            "+--------------------+--------------------+-----+\n",
            "|            Category|               Skill|Score|\n",
            "+--------------------+--------------------+-----+\n",
            "|Programming & Sof...|Python/R (pandas,...|    5|\n",
            "|                NULL|Clean, modular co...|    3|\n",
            "|                NULL|Version control (...|    3|\n",
            "|                NULL|API integration &...|    3|\n",
            "|                NULL|CI/CD & container...|    0|\n",
            "|Data Wrangling & ETL|Basic joins, merg...|    5|\n",
            "|                NULL|SQL queries & rel...|    5|\n",
            "|                NULL|Data pipelines (A...|    0|\n",
            "|                NULL|Big data handling...|    0|\n",
            "|   Statistics & Math|Descriptive stats...|    5|\n",
            "|                NULL|Hypothesis testin...|    5|\n",
            "|                NULL| Regression analysis|    5|\n",
            "|                NULL|Bayesian inferenc...|    5|\n",
            "|    Machine Learning|Basic models (lin...|    5|\n",
            "|                NULL|Feature engineeri...|    5|\n",
            "|                NULL|Ensemble methods ...|    5|\n",
            "|                NULL|Hyperparameter tu...|    5|\n",
            "|                NULL|Deep learning (CN...|    4|\n",
            "|                NULL|MLOps integration...|    0|\n",
            "|Data Visualizatio...|Static visualizat...|    5|\n",
            "+--------------------+--------------------+-----+\n",
            "only showing top 20 rows\n",
            "\n"
          ]
        }
      ]
    },
    {
      "cell_type": "code",
      "source": [
        "df.createOrReplaceTempView(\"Data_Scientist_Capability_Matrix\")"
      ],
      "metadata": {
        "id": "vqzrXIS8YM06"
      },
      "execution_count": 72,
      "outputs": []
    },
    {
      "cell_type": "code",
      "source": [
        "result = spark.sql(\"select * from Data_Scientist_Capability_Matrix\")"
      ],
      "metadata": {
        "id": "Y3h8zD-TYMyW"
      },
      "execution_count": 73,
      "outputs": []
    },
    {
      "cell_type": "code",
      "source": [
        "result.show()"
      ],
      "metadata": {
        "colab": {
          "base_uri": "https://localhost:8080/"
        },
        "id": "6HzRPaVOYmj3",
        "outputId": "c21183f7-b176-4988-e4a3-679fe303458b"
      },
      "execution_count": 75,
      "outputs": [
        {
          "output_type": "stream",
          "name": "stdout",
          "text": [
            "+--------------------+--------------------+-----+\n",
            "|            Category|               Skill|Score|\n",
            "+--------------------+--------------------+-----+\n",
            "|Programming & Sof...|Python/R (pandas,...|    5|\n",
            "|                NULL|Clean, modular co...|    3|\n",
            "|                NULL|Version control (...|    3|\n",
            "|                NULL|API integration &...|    3|\n",
            "|                NULL|CI/CD & container...|    0|\n",
            "|Data Wrangling & ETL|Basic joins, merg...|    5|\n",
            "|                NULL|SQL queries & rel...|    5|\n",
            "|                NULL|Data pipelines (A...|    0|\n",
            "|                NULL|Big data handling...|    0|\n",
            "|   Statistics & Math|Descriptive stats...|    5|\n",
            "|                NULL|Hypothesis testin...|    5|\n",
            "|                NULL| Regression analysis|    5|\n",
            "|                NULL|Bayesian inferenc...|    5|\n",
            "|    Machine Learning|Basic models (lin...|    5|\n",
            "|                NULL|Feature engineeri...|    5|\n",
            "|                NULL|Ensemble methods ...|    5|\n",
            "|                NULL|Hyperparameter tu...|    5|\n",
            "|                NULL|Deep learning (CN...|    4|\n",
            "|                NULL|MLOps integration...|    0|\n",
            "|Data Visualizatio...|Static visualizat...|    5|\n",
            "+--------------------+--------------------+-----+\n",
            "only showing top 20 rows\n",
            "\n"
          ]
        }
      ]
    },
    {
      "cell_type": "code",
      "source": [],
      "metadata": {
        "id": "6vAP6K8_YnsT"
      },
      "execution_count": 84,
      "outputs": []
    },
    {
      "cell_type": "code",
      "source": [
        "df = df.withColumn(\n",
        "    \"Score\",\n",
        "     when(col(\"Score\")>3 , \"yes\")\n",
        "     .otherwise(\"no\")\n",
        "     ).show()"
      ],
      "metadata": {
        "colab": {
          "base_uri": "https://localhost:8080/"
        },
        "id": "P56g5EM6c3ax",
        "outputId": "b7ad0fe3-f87e-4a7b-bc59-ffaaab3b95a1"
      },
      "execution_count": 86,
      "outputs": [
        {
          "output_type": "stream",
          "name": "stdout",
          "text": [
            "+--------------------+--------------------+-----+---------+\n",
            "|            Category|               Skill|Score|ScoreFlag|\n",
            "+--------------------+--------------------+-----+---------+\n",
            "|Programming & Sof...|Python/R (pandas,...|   no|      yes|\n",
            "|                NULL|Clean, modular co...|   no|       no|\n",
            "|                NULL|Version control (...|   no|       no|\n",
            "|                NULL|API integration &...|   no|       no|\n",
            "|                NULL|CI/CD & container...|   no|       no|\n",
            "|Data Wrangling & ETL|Basic joins, merg...|   no|      yes|\n",
            "|                NULL|SQL queries & rel...|   no|      yes|\n",
            "|                NULL|Data pipelines (A...|   no|       no|\n",
            "|                NULL|Big data handling...|   no|       no|\n",
            "|   Statistics & Math|Descriptive stats...|   no|      yes|\n",
            "|                NULL|Hypothesis testin...|   no|      yes|\n",
            "|                NULL| Regression analysis|   no|      yes|\n",
            "|                NULL|Bayesian inferenc...|   no|      yes|\n",
            "|    Machine Learning|Basic models (lin...|   no|      yes|\n",
            "|                NULL|Feature engineeri...|   no|      yes|\n",
            "|                NULL|Ensemble methods ...|   no|      yes|\n",
            "|                NULL|Hyperparameter tu...|   no|      yes|\n",
            "|                NULL|Deep learning (CN...|   no|      yes|\n",
            "|                NULL|MLOps integration...|   no|       no|\n",
            "|Data Visualizatio...|Static visualizat...|   no|      yes|\n",
            "+--------------------+--------------------+-----+---------+\n",
            "only showing top 20 rows\n",
            "\n"
          ]
        }
      ]
    },
    {
      "cell_type": "code",
      "source": [
        "df.dtypes"
      ],
      "metadata": {
        "colab": {
          "base_uri": "https://localhost:8080/"
        },
        "id": "pqHxEyAWceoI",
        "outputId": "318c8166-a8d0-44ad-c940-7921d606859b"
      },
      "execution_count": 81,
      "outputs": [
        {
          "output_type": "execute_result",
          "data": {
            "text/plain": [
              "[('Category', 'string'), ('Skill', 'string'), ('Score', 'int')]"
            ]
          },
          "metadata": {},
          "execution_count": 81
        }
      ]
    },
    {
      "cell_type": "code",
      "source": [
        "df.show()"
      ],
      "metadata": {
        "colab": {
          "base_uri": "https://localhost:8080/"
        },
        "id": "we9SzvAJcSJl",
        "outputId": "0a5481b6-7428-4720-aa67-d62231da12a3"
      },
      "execution_count": 78,
      "outputs": [
        {
          "output_type": "stream",
          "name": "stdout",
          "text": [
            "+--------------------+--------------------+-----+\n",
            "|            Category|               Skill|Score|\n",
            "+--------------------+--------------------+-----+\n",
            "|Programming & Sof...|Python/R (pandas,...|    5|\n",
            "|                NULL|Clean, modular co...|    3|\n",
            "|                NULL|Version control (...|    3|\n",
            "|                NULL|API integration &...|    3|\n",
            "|                NULL|CI/CD & container...|    0|\n",
            "|Data Wrangling & ETL|Basic joins, merg...|    5|\n",
            "|                NULL|SQL queries & rel...|    5|\n",
            "|                NULL|Data pipelines (A...|    0|\n",
            "|                NULL|Big data handling...|    0|\n",
            "|   Statistics & Math|Descriptive stats...|    5|\n",
            "|                NULL|Hypothesis testin...|    5|\n",
            "|                NULL| Regression analysis|    5|\n",
            "|                NULL|Bayesian inferenc...|    5|\n",
            "|    Machine Learning|Basic models (lin...|    5|\n",
            "|                NULL|Feature engineeri...|    5|\n",
            "|                NULL|Ensemble methods ...|    5|\n",
            "|                NULL|Hyperparameter tu...|    5|\n",
            "|                NULL|Deep learning (CN...|    4|\n",
            "|                NULL|MLOps integration...|    0|\n",
            "|Data Visualizatio...|Static visualizat...|    5|\n",
            "+--------------------+--------------------+-----+\n",
            "only showing top 20 rows\n",
            "\n"
          ]
        }
      ]
    },
    {
      "cell_type": "code",
      "source": [
        "df.withColumn(\"Score\" , col(\"Score\").cast(\"int\"))"
      ],
      "metadata": {
        "colab": {
          "base_uri": "https://localhost:8080/"
        },
        "id": "R-GM72DucJjM",
        "outputId": "0b47c448-8d19-4908-faf8-470146837969"
      },
      "execution_count": 79,
      "outputs": [
        {
          "output_type": "execute_result",
          "data": {
            "text/plain": [
              "DataFrame[Category: string, Skill: string, Score: int]"
            ]
          },
          "metadata": {},
          "execution_count": 79
        }
      ]
    },
    {
      "cell_type": "code",
      "source": [],
      "metadata": {
        "id": "CaRDUv_HdsQm"
      },
      "execution_count": null,
      "outputs": []
    },
    {
      "cell_type": "code",
      "source": [
        "df.createOrReplaceTempView(\"Data_Scientist_Capability_Matrix\")"
      ],
      "metadata": {
        "id": "N2JEfmVacX6u"
      },
      "execution_count": 89,
      "outputs": []
    },
    {
      "cell_type": "code",
      "source": [],
      "metadata": {
        "id": "9mOlQy37d4bO"
      },
      "execution_count": null,
      "outputs": []
    },
    {
      "cell_type": "code",
      "source": [
        "result = spark.sql(\"select * from Data_Scientist_Capability_Matrix \")"
      ],
      "metadata": {
        "id": "y0Y7UP3TdqZl"
      },
      "execution_count": 90,
      "outputs": []
    },
    {
      "cell_type": "code",
      "source": [
        "df.show()"
      ],
      "metadata": {
        "colab": {
          "base_uri": "https://localhost:8080/"
        },
        "id": "lLcLI6KHd5IB",
        "outputId": "68428380-2f14-4577-d346-651ba962d4c1"
      },
      "execution_count": 97,
      "outputs": [
        {
          "output_type": "stream",
          "name": "stdout",
          "text": [
            "+--------------------+--------------------+-----+\n",
            "|            Category|               Skill|Score|\n",
            "+--------------------+--------------------+-----+\n",
            "|Programming & Sof...|Python/R (pandas,...|    5|\n",
            "|                NULL|Clean, modular co...|    3|\n",
            "|                NULL|Version control (...|    3|\n",
            "|                NULL|API integration &...|    3|\n",
            "|                NULL|CI/CD & container...|    0|\n",
            "|Data Wrangling & ETL|Basic joins, merg...|    5|\n",
            "|                NULL|SQL queries & rel...|    5|\n",
            "|                NULL|Data pipelines (A...|    0|\n",
            "|                NULL|Big data handling...|    0|\n",
            "|   Statistics & Math|Descriptive stats...|    5|\n",
            "|                NULL|Hypothesis testin...|    5|\n",
            "|                NULL| Regression analysis|    5|\n",
            "|                NULL|Bayesian inferenc...|    5|\n",
            "|    Machine Learning|Basic models (lin...|    5|\n",
            "|                NULL|Feature engineeri...|    5|\n",
            "|                NULL|Ensemble methods ...|    5|\n",
            "|                NULL|Hyperparameter tu...|    5|\n",
            "|                NULL|Deep learning (CN...|    4|\n",
            "|                NULL|MLOps integration...|    0|\n",
            "|Data Visualizatio...|Static visualizat...|    5|\n",
            "+--------------------+--------------------+-----+\n",
            "only showing top 20 rows\n",
            "\n"
          ]
        }
      ]
    },
    {
      "cell_type": "code",
      "source": [
        "df.groupBy(\"Score\").count().show()"
      ],
      "metadata": {
        "colab": {
          "base_uri": "https://localhost:8080/"
        },
        "id": "mqZsVrIDd6LV",
        "outputId": "8693fe40-fa23-44f8-b829-7b25b04132a7"
      },
      "execution_count": 98,
      "outputs": [
        {
          "output_type": "stream",
          "name": "stdout",
          "text": [
            "+-----+-----+\n",
            "|Score|count|\n",
            "+-----+-----+\n",
            "|    3|    4|\n",
            "|    0|    8|\n",
            "|    5|   13|\n",
            "|    4|    3|\n",
            "|    2|    3|\n",
            "+-----+-----+\n",
            "\n"
          ]
        }
      ]
    },
    {
      "cell_type": "code",
      "source": [
        "from pyspark.sql import SparkSession\n",
        "\n",
        "spark = SparkSession.builder.appName(\"App\").getOrCreate()\n",
        "\n",
        "df = spark.read.format(\"csv\").option(\"header\",True).option(\"infeSchema\",True).load(\"/content/retail_sales_dataset.csv\")"
      ],
      "metadata": {
        "id": "jezZCirreMm5"
      },
      "execution_count": 113,
      "outputs": []
    },
    {
      "cell_type": "code",
      "source": [
        "df.show()"
      ],
      "metadata": {
        "colab": {
          "base_uri": "https://localhost:8080/"
        },
        "id": "RvAgfFV30t6M",
        "outputId": "21ca1c5c-fb09-4824-ba09-fbbc132f9b7a"
      },
      "execution_count": 114,
      "outputs": [
        {
          "output_type": "stream",
          "name": "stdout",
          "text": [
            "+--------------+----------+-----------+------+---+----------------+--------+--------------+------------+\n",
            "|Transaction ID|      Date|Customer ID|Gender|Age|Product Category|Quantity|Price per Unit|Total Amount|\n",
            "+--------------+----------+-----------+------+---+----------------+--------+--------------+------------+\n",
            "|             1|2023-11-24|    CUST001|  Male| 34|          Beauty|       3|            50|         150|\n",
            "|             2|2023-02-27|    CUST002|Female| 26|        Clothing|       2|           500|        1000|\n",
            "|             3|2023-01-13|    CUST003|  Male| 50|     Electronics|       1|            30|          30|\n",
            "|             4|2023-05-21|    CUST004|  Male| 37|        Clothing|       1|           500|         500|\n",
            "|             5|2023-05-06|    CUST005|  Male| 30|          Beauty|       2|            50|         100|\n",
            "|             6|2023-04-25|    CUST006|Female| 45|          Beauty|       1|            30|          30|\n",
            "|             7|2023-03-13|    CUST007|  Male| 46|        Clothing|       2|            25|          50|\n",
            "|             8|2023-02-22|    CUST008|  Male| 30|     Electronics|       4|            25|         100|\n",
            "|             9|2023-12-13|    CUST009|  Male| 63|     Electronics|       2|           300|         600|\n",
            "|            10|2023-10-07|    CUST010|Female| 52|        Clothing|       4|            50|         200|\n",
            "|            11|2023-02-14|    CUST011|  Male| 23|        Clothing|       2|            50|         100|\n",
            "|            12|2023-10-30|    CUST012|  Male| 35|          Beauty|       3|            25|          75|\n",
            "|            13|2023-08-05|    CUST013|  Male| 22|     Electronics|       3|           500|        1500|\n",
            "|            14|2023-01-17|    CUST014|  Male| 64|        Clothing|       4|            30|         120|\n",
            "|            15|2023-01-16|    CUST015|Female| 42|     Electronics|       4|           500|        2000|\n",
            "|            16|2023-02-17|    CUST016|  Male| 19|        Clothing|       3|           500|        1500|\n",
            "|            17|2023-04-22|    CUST017|Female| 27|        Clothing|       4|            25|         100|\n",
            "|            18|2023-04-30|    CUST018|Female| 47|     Electronics|       2|            25|          50|\n",
            "|            19|2023-09-16|    CUST019|Female| 62|        Clothing|       2|            25|          50|\n",
            "|            20|2023-11-05|    CUST020|  Male| 22|        Clothing|       3|           300|         900|\n",
            "+--------------+----------+-----------+------+---+----------------+--------+--------------+------------+\n",
            "only showing top 20 rows\n",
            "\n"
          ]
        }
      ]
    },
    {
      "cell_type": "code",
      "source": [
        "df.createOrReplaceTempView(\"Retail\")"
      ],
      "metadata": {
        "id": "Vk4_SXbr0yTz"
      },
      "execution_count": 115,
      "outputs": []
    },
    {
      "cell_type": "code",
      "source": [
        "df.columns"
      ],
      "metadata": {
        "colab": {
          "base_uri": "https://localhost:8080/"
        },
        "id": "I4qNyWYz1541",
        "outputId": "94d47bbf-1609-43f8-cd2d-66c9047226f0"
      },
      "execution_count": 106,
      "outputs": [
        {
          "output_type": "execute_result",
          "data": {
            "text/plain": [
              "['Transaction ID',\n",
              " 'Date',\n",
              " 'Customer ID',\n",
              " 'Gender',\n",
              " 'Age',\n",
              " 'Product Category',\n",
              " 'Quantity',\n",
              " 'Price per Unit',\n",
              " 'Total Amount']"
            ]
          },
          "metadata": {},
          "execution_count": 106
        }
      ]
    },
    {
      "cell_type": "code",
      "source": [
        "df.withColumnRenamed(\"Product Category\",\"Product_Category\")"
      ],
      "metadata": {
        "colab": {
          "base_uri": "https://localhost:8080/"
        },
        "id": "_jYZKU272CeI",
        "outputId": "a8899203-e763-4ca1-cb89-fba19146cb6a"
      },
      "execution_count": 108,
      "outputs": [
        {
          "output_type": "execute_result",
          "data": {
            "text/plain": [
              "DataFrame[Transaction ID: string, Date: string, Customer ID: string, Gender: string, Age: string, Product_Category: string, Quantity: string, Price per Unit: string, Total Amount: string]"
            ]
          },
          "metadata": {},
          "execution_count": 108
        }
      ]
    },
    {
      "cell_type": "code",
      "source": [
        "result = spark.sql(\"select 'Product Category','Quantity' from Retail \")"
      ],
      "metadata": {
        "id": "qsDDTm-m1UMz"
      },
      "execution_count": 118,
      "outputs": []
    },
    {
      "cell_type": "code",
      "source": [
        "result.show()"
      ],
      "metadata": {
        "colab": {
          "base_uri": "https://localhost:8080/"
        },
        "id": "PHotjHkc1zY7",
        "outputId": "c5ea7c71-8743-47f4-d03d-0e9e818af8d6"
      },
      "execution_count": 119,
      "outputs": [
        {
          "output_type": "stream",
          "name": "stdout",
          "text": [
            "+----------------+--------+\n",
            "|Product Category|Quantity|\n",
            "+----------------+--------+\n",
            "|Product Category|Quantity|\n",
            "|Product Category|Quantity|\n",
            "|Product Category|Quantity|\n",
            "|Product Category|Quantity|\n",
            "|Product Category|Quantity|\n",
            "|Product Category|Quantity|\n",
            "|Product Category|Quantity|\n",
            "|Product Category|Quantity|\n",
            "|Product Category|Quantity|\n",
            "|Product Category|Quantity|\n",
            "|Product Category|Quantity|\n",
            "|Product Category|Quantity|\n",
            "|Product Category|Quantity|\n",
            "|Product Category|Quantity|\n",
            "|Product Category|Quantity|\n",
            "|Product Category|Quantity|\n",
            "|Product Category|Quantity|\n",
            "|Product Category|Quantity|\n",
            "|Product Category|Quantity|\n",
            "|Product Category|Quantity|\n",
            "+----------------+--------+\n",
            "only showing top 20 rows\n",
            "\n"
          ]
        }
      ]
    },
    {
      "cell_type": "code",
      "source": [
        "result = spark.sql(\"select * from Retail \")"
      ],
      "metadata": {
        "id": "BeMjcsyp3U4i"
      },
      "execution_count": 120,
      "outputs": []
    },
    {
      "cell_type": "code",
      "source": [
        "result.show()"
      ],
      "metadata": {
        "colab": {
          "base_uri": "https://localhost:8080/"
        },
        "id": "9bDQg2Nz3r5C",
        "outputId": "b11c1166-d2ed-446a-80bb-eda60535fe7c"
      },
      "execution_count": 121,
      "outputs": [
        {
          "output_type": "stream",
          "name": "stdout",
          "text": [
            "+--------------+----------+-----------+------+---+----------------+--------+--------------+------------+\n",
            "|Transaction ID|      Date|Customer ID|Gender|Age|Product Category|Quantity|Price per Unit|Total Amount|\n",
            "+--------------+----------+-----------+------+---+----------------+--------+--------------+------------+\n",
            "|             1|2023-11-24|    CUST001|  Male| 34|          Beauty|       3|            50|         150|\n",
            "|             2|2023-02-27|    CUST002|Female| 26|        Clothing|       2|           500|        1000|\n",
            "|             3|2023-01-13|    CUST003|  Male| 50|     Electronics|       1|            30|          30|\n",
            "|             4|2023-05-21|    CUST004|  Male| 37|        Clothing|       1|           500|         500|\n",
            "|             5|2023-05-06|    CUST005|  Male| 30|          Beauty|       2|            50|         100|\n",
            "|             6|2023-04-25|    CUST006|Female| 45|          Beauty|       1|            30|          30|\n",
            "|             7|2023-03-13|    CUST007|  Male| 46|        Clothing|       2|            25|          50|\n",
            "|             8|2023-02-22|    CUST008|  Male| 30|     Electronics|       4|            25|         100|\n",
            "|             9|2023-12-13|    CUST009|  Male| 63|     Electronics|       2|           300|         600|\n",
            "|            10|2023-10-07|    CUST010|Female| 52|        Clothing|       4|            50|         200|\n",
            "|            11|2023-02-14|    CUST011|  Male| 23|        Clothing|       2|            50|         100|\n",
            "|            12|2023-10-30|    CUST012|  Male| 35|          Beauty|       3|            25|          75|\n",
            "|            13|2023-08-05|    CUST013|  Male| 22|     Electronics|       3|           500|        1500|\n",
            "|            14|2023-01-17|    CUST014|  Male| 64|        Clothing|       4|            30|         120|\n",
            "|            15|2023-01-16|    CUST015|Female| 42|     Electronics|       4|           500|        2000|\n",
            "|            16|2023-02-17|    CUST016|  Male| 19|        Clothing|       3|           500|        1500|\n",
            "|            17|2023-04-22|    CUST017|Female| 27|        Clothing|       4|            25|         100|\n",
            "|            18|2023-04-30|    CUST018|Female| 47|     Electronics|       2|            25|          50|\n",
            "|            19|2023-09-16|    CUST019|Female| 62|        Clothing|       2|            25|          50|\n",
            "|            20|2023-11-05|    CUST020|  Male| 22|        Clothing|       3|           300|         900|\n",
            "+--------------+----------+-----------+------+---+----------------+--------+--------------+------------+\n",
            "only showing top 20 rows\n",
            "\n"
          ]
        }
      ]
    },
    {
      "cell_type": "code",
      "source": [
        "most_sold_product=df.groupBy(\"Product Category\").agg(sum(\"Quantity\").alias(\"Sum\"))"
      ],
      "metadata": {
        "id": "-zOG96wS3tfG"
      },
      "execution_count": 124,
      "outputs": []
    },
    {
      "cell_type": "code",
      "source": [
        "most_sold_product.show()"
      ],
      "metadata": {
        "colab": {
          "base_uri": "https://localhost:8080/"
        },
        "id": "NsRfdJm64yJd",
        "outputId": "0e008ac3-9a23-4232-cb7f-3128bd911970"
      },
      "execution_count": 125,
      "outputs": [
        {
          "output_type": "stream",
          "name": "stdout",
          "text": [
            "+----------------+-----+\n",
            "|Product Category|  Sum|\n",
            "+----------------+-----+\n",
            "|     Electronics|849.0|\n",
            "|        Clothing|894.0|\n",
            "|          Beauty|771.0|\n",
            "+----------------+-----+\n",
            "\n"
          ]
        }
      ]
    },
    {
      "cell_type": "code",
      "source": [
        "most_sold_product.orderBy(\"Sum\",ascending = False).show()"
      ],
      "metadata": {
        "colab": {
          "base_uri": "https://localhost:8080/"
        },
        "id": "UmxHNq8S4zos",
        "outputId": "35271ec7-62c2-460e-ceb7-88dcc22b7634"
      },
      "execution_count": 128,
      "outputs": [
        {
          "output_type": "stream",
          "name": "stdout",
          "text": [
            "+----------------+-----+\n",
            "|Product Category|  Sum|\n",
            "+----------------+-----+\n",
            "|        Clothing|894.0|\n",
            "|     Electronics|849.0|\n",
            "|          Beauty|771.0|\n",
            "+----------------+-----+\n",
            "\n"
          ]
        }
      ]
    },
    {
      "cell_type": "code",
      "source": [
        "gender=df.groupBy(\"Product Category\").agg(sum(\"Quantity\").alias(\"sum\"))\n"
      ],
      "metadata": {
        "id": "XNcILA1E5MXD"
      },
      "execution_count": 137,
      "outputs": []
    },
    {
      "cell_type": "code",
      "source": [
        "gender.orderBy(\"sum\",ascending=False).show()"
      ],
      "metadata": {
        "colab": {
          "base_uri": "https://localhost:8080/"
        },
        "id": "GXD6vhvo7qDK",
        "outputId": "5c04b923-508e-4ca8-e22d-c6626801f79a"
      },
      "execution_count": 139,
      "outputs": [
        {
          "output_type": "stream",
          "name": "stdout",
          "text": [
            "+----------------+-----+\n",
            "|Product Category|  sum|\n",
            "+----------------+-----+\n",
            "|        Clothing|894.0|\n",
            "|     Electronics|849.0|\n",
            "|          Beauty|771.0|\n",
            "+----------------+-----+\n",
            "\n"
          ]
        }
      ]
    },
    {
      "cell_type": "code",
      "source": [],
      "metadata": {
        "id": "VKUMfCYc8zBF"
      },
      "execution_count": null,
      "outputs": []
    },
    {
      "cell_type": "code",
      "source": [],
      "metadata": {
        "id": "VMrVv7hY8y9r"
      },
      "execution_count": null,
      "outputs": []
    },
    {
      "cell_type": "code",
      "source": [
        "gender = df.groupBy(\"Gender\",\"Product Category\").count()"
      ],
      "metadata": {
        "id": "YKdtE9QE7UaG"
      },
      "execution_count": 142,
      "outputs": []
    },
    {
      "cell_type": "code",
      "source": [
        "gender.show()"
      ],
      "metadata": {
        "colab": {
          "base_uri": "https://localhost:8080/"
        },
        "id": "Kp-BMG777vva",
        "outputId": "c030a671-99c2-4e0e-9fcc-9efe2450c52e"
      },
      "execution_count": 143,
      "outputs": [
        {
          "output_type": "stream",
          "name": "stdout",
          "text": [
            "+------+----------------+-----+\n",
            "|Gender|Product Category|count|\n",
            "+------+----------------+-----+\n",
            "|  Male|        Clothing|  177|\n",
            "|Female|        Clothing|  174|\n",
            "|  Male|     Electronics|  172|\n",
            "|Female|          Beauty|  166|\n",
            "|  Male|          Beauty|  141|\n",
            "|Female|     Electronics|  170|\n",
            "+------+----------------+-----+\n",
            "\n"
          ]
        }
      ]
    },
    {
      "cell_type": "code",
      "source": [
        "gender = df.groupBy(\"Gender\").count()"
      ],
      "metadata": {
        "id": "xFrg0nim7vr-"
      },
      "execution_count": 144,
      "outputs": []
    },
    {
      "cell_type": "code",
      "source": [
        "gender.show()"
      ],
      "metadata": {
        "colab": {
          "base_uri": "https://localhost:8080/"
        },
        "id": "sM_TNj5W81KV",
        "outputId": "39e6c7c4-2795-4c32-9890-e9926504bfc2"
      },
      "execution_count": 146,
      "outputs": [
        {
          "output_type": "stream",
          "name": "stdout",
          "text": [
            "+------+-----+\n",
            "|Gender|count|\n",
            "+------+-----+\n",
            "|Female|  510|\n",
            "|  Male|  490|\n",
            "+------+-----+\n",
            "\n"
          ]
        }
      ]
    },
    {
      "cell_type": "code",
      "source": [
        "mostsale=df.withColumn(\"Age Category\",\n",
        "              when((col(\"Product Category\")==\"Clothing\")&\n",
        "              (col(\"Gender\")==\"Male\"),\"Most Sale\")\n",
        "              .otherwise(\"Last Sale\")\n",
        ")"
      ],
      "metadata": {
        "id": "Xk_UYHnc908T"
      },
      "execution_count": 157,
      "outputs": []
    },
    {
      "cell_type": "code",
      "source": [
        "mostsale.show()"
      ],
      "metadata": {
        "colab": {
          "base_uri": "https://localhost:8080/"
        },
        "id": "z3FSZqSn_yjf",
        "outputId": "08414981-ce55-4953-c338-eeec3fd0c814"
      },
      "execution_count": 158,
      "outputs": [
        {
          "output_type": "stream",
          "name": "stdout",
          "text": [
            "+--------------+----------+-----------+------+---+----------------+--------+--------------+------------+------------+\n",
            "|Transaction ID|      Date|Customer ID|Gender|Age|Product Category|Quantity|Price per Unit|Total Amount|Age Category|\n",
            "+--------------+----------+-----------+------+---+----------------+--------+--------------+------------+------------+\n",
            "|             1|2023-11-24|    CUST001|  Male| 34|          Beauty|       3|            50|         150|   Last Sale|\n",
            "|             2|2023-02-27|    CUST002|Female| 26|        Clothing|       2|           500|        1000|   Last Sale|\n",
            "|             3|2023-01-13|    CUST003|  Male| 50|     Electronics|       1|            30|          30|   Last Sale|\n",
            "|             4|2023-05-21|    CUST004|  Male| 37|        Clothing|       1|           500|         500|   Most Sale|\n",
            "|             5|2023-05-06|    CUST005|  Male| 30|          Beauty|       2|            50|         100|   Last Sale|\n",
            "|             6|2023-04-25|    CUST006|Female| 45|          Beauty|       1|            30|          30|   Last Sale|\n",
            "|             7|2023-03-13|    CUST007|  Male| 46|        Clothing|       2|            25|          50|   Most Sale|\n",
            "|             8|2023-02-22|    CUST008|  Male| 30|     Electronics|       4|            25|         100|   Last Sale|\n",
            "|             9|2023-12-13|    CUST009|  Male| 63|     Electronics|       2|           300|         600|   Last Sale|\n",
            "|            10|2023-10-07|    CUST010|Female| 52|        Clothing|       4|            50|         200|   Last Sale|\n",
            "|            11|2023-02-14|    CUST011|  Male| 23|        Clothing|       2|            50|         100|   Most Sale|\n",
            "|            12|2023-10-30|    CUST012|  Male| 35|          Beauty|       3|            25|          75|   Last Sale|\n",
            "|            13|2023-08-05|    CUST013|  Male| 22|     Electronics|       3|           500|        1500|   Last Sale|\n",
            "|            14|2023-01-17|    CUST014|  Male| 64|        Clothing|       4|            30|         120|   Most Sale|\n",
            "|            15|2023-01-16|    CUST015|Female| 42|     Electronics|       4|           500|        2000|   Last Sale|\n",
            "|            16|2023-02-17|    CUST016|  Male| 19|        Clothing|       3|           500|        1500|   Most Sale|\n",
            "|            17|2023-04-22|    CUST017|Female| 27|        Clothing|       4|            25|         100|   Last Sale|\n",
            "|            18|2023-04-30|    CUST018|Female| 47|     Electronics|       2|            25|          50|   Last Sale|\n",
            "|            19|2023-09-16|    CUST019|Female| 62|        Clothing|       2|            25|          50|   Last Sale|\n",
            "|            20|2023-11-05|    CUST020|  Male| 22|        Clothing|       3|           300|         900|   Most Sale|\n",
            "+--------------+----------+-----------+------+---+----------------+--------+--------------+------------+------------+\n",
            "only showing top 20 rows\n",
            "\n"
          ]
        }
      ]
    },
    {
      "cell_type": "code",
      "source": [
        "import joblib\n",
        "from sklearn.linear_model import LogisticRegression\n",
        "from sklearn.datasets import load_iris\n",
        "\n",
        "# Load data\n",
        "X, y = load_iris(return_X_y=True)\n",
        "model = LogisticRegression(max_iter=200)\n",
        "model.fit(X, y)\n",
        "\n",
        "# Save model\n",
        "joblib.dump(model, \"iris_model.pkl\")\n"
      ],
      "metadata": {
        "colab": {
          "base_uri": "https://localhost:8080/"
        },
        "id": "Unxk4kjH_4iH",
        "outputId": "5891db4d-2bbb-415c-a87b-7cef94567daa"
      },
      "execution_count": 1,
      "outputs": [
        {
          "output_type": "execute_result",
          "data": {
            "text/plain": [
              "['iris_model.pkl']"
            ]
          },
          "metadata": {},
          "execution_count": 1
        }
      ]
    },
    {
      "cell_type": "code",
      "source": [],
      "metadata": {
        "id": "6xAMUFARluNY"
      },
      "execution_count": null,
      "outputs": []
    }
  ]
}